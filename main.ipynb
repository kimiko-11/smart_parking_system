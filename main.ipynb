{
 "cells": [
  {
   "cell_type": "code",
   "execution_count": 1,
   "id": "1b0b4849",
   "metadata": {},
   "outputs": [
    {
     "name": "stdout",
     "output_type": "stream",
     "text": [
      "Requirement already satisfied: pandas in c:\\users\\kimaya\\appdata\\local\\programs\\python\\python312\\lib\\site-packages (2.2.2)\n",
      "Requirement already satisfied: numpy in c:\\users\\kimaya\\appdata\\local\\programs\\python\\python312\\lib\\site-packages (1.26.4)\n",
      "Requirement already satisfied: scikit-learn in c:\\users\\kimaya\\appdata\\local\\programs\\python\\python312\\lib\\site-packages (1.5.2)\n",
      "Requirement already satisfied: matplotlib in c:\\users\\kimaya\\appdata\\local\\programs\\python\\python312\\lib\\site-packages (3.9.2)\n",
      "Requirement already satisfied: seaborn in c:\\users\\kimaya\\appdata\\local\\programs\\python\\python312\\lib\\site-packages (0.13.2)\n",
      "Requirement already satisfied: python-dateutil>=2.8.2 in c:\\users\\kimaya\\appdata\\local\\programs\\python\\python312\\lib\\site-packages (from pandas) (2.9.0.post0)\n",
      "Requirement already satisfied: pytz>=2020.1 in c:\\users\\kimaya\\appdata\\local\\programs\\python\\python312\\lib\\site-packages (from pandas) (2024.1)\n",
      "Requirement already satisfied: tzdata>=2022.7 in c:\\users\\kimaya\\appdata\\local\\programs\\python\\python312\\lib\\site-packages (from pandas) (2024.1)\n",
      "Requirement already satisfied: scipy>=1.6.0 in c:\\users\\kimaya\\appdata\\local\\programs\\python\\python312\\lib\\site-packages (from scikit-learn) (1.14.0)\n",
      "Requirement already satisfied: joblib>=1.2.0 in c:\\users\\kimaya\\appdata\\local\\programs\\python\\python312\\lib\\site-packages (from scikit-learn) (1.4.2)\n",
      "Requirement already satisfied: threadpoolctl>=3.1.0 in c:\\users\\kimaya\\appdata\\local\\programs\\python\\python312\\lib\\site-packages (from scikit-learn) (3.5.0)\n",
      "Requirement already satisfied: contourpy>=1.0.1 in c:\\users\\kimaya\\appdata\\local\\programs\\python\\python312\\lib\\site-packages (from matplotlib) (1.3.0)\n",
      "Requirement already satisfied: cycler>=0.10 in c:\\users\\kimaya\\appdata\\local\\programs\\python\\python312\\lib\\site-packages (from matplotlib) (0.12.1)\n",
      "Requirement already satisfied: fonttools>=4.22.0 in c:\\users\\kimaya\\appdata\\local\\programs\\python\\python312\\lib\\site-packages (from matplotlib) (4.53.1)\n",
      "Requirement already satisfied: kiwisolver>=1.3.1 in c:\\users\\kimaya\\appdata\\local\\programs\\python\\python312\\lib\\site-packages (from matplotlib) (1.4.5)\n",
      "Requirement already satisfied: packaging>=20.0 in c:\\users\\kimaya\\appdata\\local\\programs\\python\\python312\\lib\\site-packages (from matplotlib) (24.1)\n",
      "Requirement already satisfied: pillow>=8 in c:\\users\\kimaya\\appdata\\local\\programs\\python\\python312\\lib\\site-packages (from matplotlib) (10.4.0)\n",
      "Requirement already satisfied: pyparsing>=2.3.1 in c:\\users\\kimaya\\appdata\\local\\programs\\python\\python312\\lib\\site-packages (from matplotlib) (3.1.4)\n",
      "Requirement already satisfied: six>=1.5 in c:\\users\\kimaya\\appdata\\local\\programs\\python\\python312\\lib\\site-packages (from python-dateutil>=2.8.2->pandas) (1.16.0)\n",
      "Note: you may need to restart the kernel to use updated packages.\n"
     ]
    },
    {
     "name": "stderr",
     "output_type": "stream",
     "text": [
      "\n",
      "[notice] A new release of pip is available: 25.1.1 -> 25.3\n",
      "[notice] To update, run: python.exe -m pip install --upgrade pip\n"
     ]
    }
   ],
   "source": [
    "%pip install pandas numpy scikit-learn matplotlib seaborn\n"
   ]
  },
  {
   "cell_type": "code",
   "execution_count": 3,
   "id": "ad6047cc",
   "metadata": {},
   "outputs": [
    {
     "name": "stdout",
     "output_type": "stream",
     "text": [
      "                       Timestamp  Parking_Spot_ID  Sensor_Reading_Proximity  \\\n",
      "0  2021-01-01 00:00:00.000000000               20                  1.023651   \n",
      "1  2021-01-02 06:39:16.756756756               49                  3.903349   \n",
      "2  2021-01-03 13:18:33.513513513               38                 10.315709   \n",
      "3  2021-01-04 19:57:50.270270270               31                  6.588039   \n",
      "4  2021-01-06 02:37:07.027027027                8                  8.213969   \n",
      "\n",
      "   Sensor_Reading_Pressure  Vehicle_Type_Weight  Vehicle_Type_Height  \\\n",
      "0                 1.541461          1831.770127             4.392528   \n",
      "1                 1.621719          1330.815754             4.595638   \n",
      "2                 6.292374          1255.134827             4.313721   \n",
      "3                 1.659870          1523.442919             3.567329   \n",
      "4                 3.278467          1758.490837             5.145836   \n",
      "\n",
      "    User_Type  Weather_Temperature  Weather_Precipitation  \\\n",
      "0     Visitor            18.092553                      1   \n",
      "1  Registered            13.397533                      0   \n",
      "2  Registered            21.687410                      0   \n",
      "3     Visitor            18.683461                      0   \n",
      "4     Visitor            19.214876                      0   \n",
      "\n",
      "  Nearby_Traffic_Level  ...  Occupancy_Status  Vehicle_Type  \\\n",
      "0                  Low  ...          Occupied           Car   \n",
      "1                  Low  ...          Occupied           Car   \n",
      "2                 High  ...            Vacant           Car   \n",
      "3               Medium  ...            Vacant    Motorcycle   \n",
      "4                 High  ...          Occupied           Car   \n",
      "\n",
      "   Parking_Violation  Sensor_Reading_Ultrasonic  Parking_Duration  \\\n",
      "0                  0                 102.951052                 4   \n",
      "1                  0                  87.559131                 3   \n",
      "2                  1                 100.061854                 5   \n",
      "3                  1                 110.594598                 2   \n",
      "4                  0                  84.786963                 2   \n",
      "\n",
      "   Environmental_Noise_Level Dynamic_Pricing_Factor Spot_Size  \\\n",
      "0                  55.620740                    0.8  Standard   \n",
      "1                  56.682386                    1.2   Compact   \n",
      "2                  59.239322                    0.8  Standard   \n",
      "3                  44.545155                    0.8  Standard   \n",
      "4                  48.012604                    0.8  Standard   \n",
      "\n",
      "  Proximity_To_Exit User_Parking_History  \n",
      "0          6.610474             6.660310  \n",
      "1          8.678719             6.766187  \n",
      "2         13.795262            -0.910052  \n",
      "3          1.678721            10.415888  \n",
      "4         20.012252             4.355544  \n",
      "\n",
      "[5 rows x 28 columns]\n",
      "<class 'pandas.core.frame.DataFrame'>\n",
      "RangeIndex: 1000 entries, 0 to 999\n",
      "Data columns (total 28 columns):\n",
      " #   Column                     Non-Null Count  Dtype  \n",
      "---  ------                     --------------  -----  \n",
      " 0   Timestamp                  1000 non-null   object \n",
      " 1   Parking_Spot_ID            1000 non-null   int64  \n",
      " 2   Sensor_Reading_Proximity   1000 non-null   float64\n",
      " 3   Sensor_Reading_Pressure    1000 non-null   float64\n",
      " 4   Vehicle_Type_Weight        1000 non-null   float64\n",
      " 5   Vehicle_Type_Height        1000 non-null   float64\n",
      " 6   User_Type                  1000 non-null   object \n",
      " 7   Weather_Temperature        1000 non-null   float64\n",
      " 8   Weather_Precipitation      1000 non-null   int64  \n",
      " 9   Nearby_Traffic_Level       1000 non-null   object \n",
      " 10  Entry_Time                 1000 non-null   int64  \n",
      " 11  Exit_Time                  1000 non-null   int64  \n",
      " 12  Electric_Vehicle           1000 non-null   int64  \n",
      " 13  Reserved_Status            1000 non-null   int64  \n",
      " 14  Occupancy_Rate             1000 non-null   float64\n",
      " 15  Payment_Amount             1000 non-null   float64\n",
      " 16  Parking_Lot_Section        1000 non-null   object \n",
      " 17  Payment_Status             1000 non-null   object \n",
      " 18  Occupancy_Status           1000 non-null   object \n",
      " 19  Vehicle_Type               1000 non-null   object \n",
      " 20  Parking_Violation          1000 non-null   int64  \n",
      " 21  Sensor_Reading_Ultrasonic  1000 non-null   float64\n",
      " 22  Parking_Duration           1000 non-null   int64  \n",
      " 23  Environmental_Noise_Level  1000 non-null   float64\n",
      " 24  Dynamic_Pricing_Factor     1000 non-null   float64\n",
      " 25  Spot_Size                  1000 non-null   object \n",
      " 26  Proximity_To_Exit          1000 non-null   float64\n",
      " 27  User_Parking_History       1000 non-null   float64\n",
      "dtypes: float64(12), int64(8), object(8)\n",
      "memory usage: 218.9+ KB\n",
      "None\n"
     ]
    }
   ],
   "source": [
    "import pandas as pd\n",
    "\n",
    "# Load CSV (replace with your dataset path)\n",
    "df = pd.read_csv(\"D:/ML_project(2025)/IIoT_Smart_Parking_Management.csv\")\n",
    "\n",
    "# Quick look at data\n",
    "print(df.head())\n",
    "print(df.info())"
   ]
  },
  {
   "cell_type": "code",
   "execution_count": 12,
   "id": "16e8eb4e",
   "metadata": {},
   "outputs": [],
   "source": [
    "# Convert timestamp to datetime\n",
    "df['Timestamp'] = pd.to_datetime(df['Timestamp'])\n",
    "\n",
    "# Extract hour, day of week, weekend\n",
    "df['hour'] = df['Timestamp'].dt.hour\n",
    "df['day_of_week'] = df['Timestamp'].dt.dayofweek\n",
    "df['is_weekend'] = df['day_of_week'].apply(lambda x: 1 if x>=5 else 0)\n"
   ]
  },
  {
   "cell_type": "code",
   "execution_count": 13,
   "id": "2ab618bd",
   "metadata": {},
   "outputs": [
    {
     "name": "stdout",
     "output_type": "stream",
     "text": [
      "['Vehicle_Type_Weight', 'Vehicle_Type_Height', 'User_Type_Staff', 'User_Type_Visitor', 'Vehicle_Type_Electric Vehicle', 'Vehicle_Type_Motorcycle', 'Nearby_Traffic_Level_Low', 'Nearby_Traffic_Level_Medium']\n"
     ]
    }
   ],
   "source": [
    "df['occupied'] = df['Occupancy_Status'].apply(lambda x: 1 if x=='Occupied' else 0)\n",
    "print([col for col in df.columns if 'User_Type' in col or 'Vehicle_Type' in col or 'Nearby_Traffic_Level' in col])\n"
   ]
  },
  {
   "cell_type": "code",
   "execution_count": 14,
   "id": "d62ec71c",
   "metadata": {},
   "outputs": [],
   "source": [
    "df['prev_occupancy'] = df.groupby('Parking_Spot_ID')['occupied'].shift(1).fillna(0)\n"
   ]
  },
  {
   "cell_type": "code",
   "execution_count": 15,
   "id": "4df55437",
   "metadata": {},
   "outputs": [],
   "source": [
    "features = [\n",
    "    'hour', 'day_of_week', 'is_weekend',\n",
    "    'Sensor_Reading_Proximity', 'Sensor_Reading_Pressure',\n",
    "    'Vehicle_Type_Weight', 'Vehicle_Type_Height',\n",
    "    'Weather_Temperature', 'Weather_Precipitation',\n",
    "    'prev_occupancy',\n",
    "    'User_Type_Staff', 'User_Type_Visitor',\n",
    "    'Vehicle_Type_Electric Vehicle', 'Vehicle_Type_Motorcycle',\n",
    "    'Nearby_Traffic_Level_Low', 'Nearby_Traffic_Level_Medium'\n",
    "]\n",
    "\n",
    "X = df[features]\n",
    "y = df['occupied']\n"
   ]
  },
  {
   "cell_type": "code",
   "execution_count": 18,
   "id": "bd22d8fd",
   "metadata": {},
   "outputs": [
    {
     "name": "stdout",
     "output_type": "stream",
     "text": [
      "Collecting imbalanced-learn\n",
      "  Downloading imbalanced_learn-0.14.0-py3-none-any.whl.metadata (8.8 kB)\n",
      "Requirement already satisfied: numpy<3,>=1.25.2 in c:\\users\\kimaya\\appdata\\local\\programs\\python\\python312\\lib\\site-packages (from imbalanced-learn) (1.26.4)\n",
      "Requirement already satisfied: scipy<2,>=1.11.4 in c:\\users\\kimaya\\appdata\\local\\programs\\python\\python312\\lib\\site-packages (from imbalanced-learn) (1.14.0)\n",
      "Requirement already satisfied: scikit-learn<2,>=1.4.2 in c:\\users\\kimaya\\appdata\\local\\programs\\python\\python312\\lib\\site-packages (from imbalanced-learn) (1.5.2)\n",
      "Requirement already satisfied: joblib<2,>=1.2.0 in c:\\users\\kimaya\\appdata\\local\\programs\\python\\python312\\lib\\site-packages (from imbalanced-learn) (1.4.2)\n",
      "Requirement already satisfied: threadpoolctl<4,>=2.0.0 in c:\\users\\kimaya\\appdata\\local\\programs\\python\\python312\\lib\\site-packages (from imbalanced-learn) (3.5.0)\n",
      "Downloading imbalanced_learn-0.14.0-py3-none-any.whl (239 kB)\n",
      "Installing collected packages: imbalanced-learn\n",
      "Successfully installed imbalanced-learn-0.14.0\n",
      "Note: you may need to restart the kernel to use updated packages.\n"
     ]
    },
    {
     "name": "stderr",
     "output_type": "stream",
     "text": [
      "\n",
      "[notice] A new release of pip is available: 25.1.1 -> 25.3\n",
      "[notice] To update, run: python.exe -m pip install --upgrade pip\n"
     ]
    }
   ],
   "source": [
    "%pip install imbalanced-learn"
   ]
  },
  {
   "cell_type": "code",
   "execution_count": 19,
   "id": "f3cb0577",
   "metadata": {},
   "outputs": [],
   "source": [
    "from imblearn.over_sampling import SMOTE"
   ]
  },
  {
   "cell_type": "code",
   "execution_count": 20,
   "id": "3ae2e054",
   "metadata": {},
   "outputs": [],
   "source": [
    "from imblearn.over_sampling import SMOTE\n",
    "\n",
    "sm = SMOTE(random_state=42)\n",
    "X_res, y_res = sm.fit_resample(X, y)\n"
   ]
  },
  {
   "cell_type": "code",
   "execution_count": 23,
   "id": "5c77ded0",
   "metadata": {},
   "outputs": [],
   "source": [
    "from sklearn.model_selection import train_test_split\n",
    "\n",
    "X_train, X_test, y_train, y_test = train_test_split(X_res, y_res, test_size=0.2, random_state=42)\n"
   ]
  },
  {
   "cell_type": "code",
   "execution_count": 24,
   "id": "0c10cf4d",
   "metadata": {},
   "outputs": [
    {
     "name": "stdout",
     "output_type": "stream",
     "text": [
      "Accuracy: 0.8090909090909091\n",
      "              precision    recall  f1-score   support\n",
      "\n",
      "           0       0.86      0.76      0.81       115\n",
      "           1       0.76      0.87      0.81       105\n",
      "\n",
      "    accuracy                           0.81       220\n",
      "   macro avg       0.81      0.81      0.81       220\n",
      "weighted avg       0.82      0.81      0.81       220\n",
      "\n"
     ]
    },
    {
     "data": {
      "image/png": "[encoded data removed]",
      "text/plain": [
       "<Figure size 640x480 with 2 Axes>"
      ]
     },
     "metadata": {},
     "output_type": "display_data"
    }
   ],
   "source": [
    "from sklearn.metrics import accuracy_score, classification_report, confusion_matrix\n",
    "import seaborn as sns\n",
    "import matplotlib.pyplot as plt\n",
    "\n",
    "y_pred = model.predict(X_test)\n",
    "\n",
    "print(\"Accuracy:\", accuracy_score(y_test, y_pred))\n",
    "print(classification_report(y_test, y_pred))\n",
    "\n",
    "# Confusion matrix\n",
    "cm = confusion_matrix(y_test, y_pred)\n",
    "sns.heatmap(cm, annot=True, fmt='d', cmap='Blues')\n",
    "plt.xlabel(\"Predicted\")\n",
    "plt.ylabel(\"Actual\")\n",
    "plt.show()\n"
   ]
  }
 ],
 "metadata": {
  "kernelspec": {
   "display_name": "Python 3",
   "language": "python",
   "name": "python3"
  },
  "language_info": {
   "codemirror_mode": {
    "name": "ipython",
    "version": 3
   },
   "file_extension": ".py",
   "mimetype": "text/x-python",
   "name": "python",
   "nbconvert_exporter": "python",
   "pygments_lexer": "ipython3",
   "version": "3.12.4"
  }
 },
 "nbformat": 4,
 "nbformat_minor": 5
}
